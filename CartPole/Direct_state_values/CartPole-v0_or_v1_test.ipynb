{
 "cells": [
  {
   "cell_type": "code",
   "execution_count": null,
   "metadata": {},
   "outputs": [],
   "source": [
    "import gym\n",
    "#import atari_py\n",
    "import math\n",
    "import random\n",
    "import numpy as np\n",
    "import matplotlib\n",
    "import matplotlib.pyplot as plt\n",
    "from collections import namedtuple\n",
    "from itertools import count\n",
    "from PIL import Image\n",
    "\n",
    "import torch\n",
    "import torch.nn as nn\n",
    "import torch.optim as optim\n",
    "import torch.nn.functional as F\n",
    "import torchvision.transforms as T  \n",
    "\n",
    "from collections import deque"
   ]
  },
  {
   "cell_type": "code",
   "execution_count": null,
   "metadata": {},
   "outputs": [],
   "source": [
    "is_ipython = 'inline' in matplotlib.get_backend()\n",
    "if is_ipython: from IPython import display"
   ]
  },
  {
   "cell_type": "code",
   "execution_count": null,
   "metadata": {},
   "outputs": [],
   "source": [
    "TEST_ENV_NAME = \"CartPole-v1\"\n",
    "#NUM_EPISODES = 1000\n",
    "#GAMMA = 0.99\n",
    "#LEARNING_RATE = 0.001\n",
    "\n",
    "#TARGET_UPDATE =25\n",
    "MEMORY_SIZE = 1000000\n",
    "#BATCH_SIZE = 64\n",
    "\n",
    "EXPLORATION_START = 0.0\n",
    "EXPLORATION_END = 0.0\n",
    "EXPLORATION_DECAY = 0.001"
   ]
  },
  {
   "cell_type": "code",
   "execution_count": null,
   "metadata": {},
   "outputs": [],
   "source": [
    "class DQN(nn.Module):\n",
    "\n",
    "    def __init__(self, observation_space_size, action_space_size):    \n",
    "        super(DQN,self).__init__()\n",
    "        self.fc1 = nn.Linear(in_features=observation_space_size, out_features=128)\n",
    "        self.fc2 = nn.Linear(in_features=128, out_features=64)\n",
    "        self.out = nn.Linear(in_features=64, out_features=action_space_size)\n",
    "        \n",
    "        \n",
    "    def forward(self, t):\n",
    "        t = t.flatten(start_dim=1)\n",
    "        t = F.relu(self.fc1(t))\n",
    "        t = F.relu(self.fc2(t))\n",
    "        t = self.out(t)\n",
    "        return t\n",
    "    "
   ]
  },
  {
   "cell_type": "code",
   "execution_count": null,
   "metadata": {},
   "outputs": [],
   "source": [
    "def plot(moving_avg, values):\n",
    "    plt.figure(2)\n",
    "    plt.clf()        \n",
    "    plt.title('Training...')\n",
    "    plt.xlabel('Episode')\n",
    "    plt.ylabel('Duration')\n",
    "    plt.plot(values)\n",
    "\n",
    "    plt.plot(moving_avg)    \n",
    "    plt.pause(0.001)\n",
    "    print(\"Episode:\", len(values),\"\\t Reward\",str(values[-1]),\\\n",
    "          \"\\n 100 episode moving avg:\", moving_avg[-1])\n",
    "    if is_ipython: display.clear_output(wait=True)"
   ]
  },
  {
   "cell_type": "code",
   "execution_count": null,
   "metadata": {},
   "outputs": [],
   "source": [
    "def get_moving_average(period, values):\n",
    "    values = torch.tensor(values, dtype=torch.float)\n",
    "    if len(values) >= period:\n",
    "        moving_avg = values.unfold(dimension=0, size=period, step=1) \\\n",
    "            .mean(dim=1).flatten(start_dim=0)\n",
    "        moving_avg = torch.cat((torch.zeros(period-1), moving_avg))\n",
    "        return moving_avg.numpy()\n",
    "    else:\n",
    "        moving_avg = torch.zeros(len(values))\n",
    "        return moving_avg.numpy()"
   ]
  },
  {
   "cell_type": "code",
   "execution_count": null,
   "metadata": {},
   "outputs": [],
   "source": [
    "class Agent_class():\n",
    "    \n",
    "    def __init__(self, policy_net, target_net, observation_space_size, action_space_size):\n",
    "        self.policy_net = policy_net\n",
    "        self.target_net = target_net\n",
    "        self.observation_space_size = observation_space_size\n",
    "        self.action_space_size = action_space_size\n",
    "        self.current_step = 0\n",
    "        self.memory = deque(maxlen=MEMORY_SIZE)\n",
    "        \n",
    "    def remember(self, state, action, reward, next_state, done):\n",
    "        self.memory.append((state, action, reward, next_state, done))\n",
    "\n",
    "    def act(self, state):\n",
    "        exploration_rate = EXPLORATION_END + (EXPLORATION_START - EXPLORATION_END)* math.exp(-1.0 * self.current_step * EXPLORATION_DECAY)\n",
    "        self.current_step +=1\n",
    "        if np.random.rand() < exploration_rate:\n",
    "            return random.randrange(self.action_space_size)\n",
    "        q_values = self.policy_net(state)        #self.model.predict(state)\n",
    "        q_values = q_values.detach().numpy()\n",
    "        return np.argmax(q_values)\n",
    "        \n",
    "    def experience_replay_n_train(self):\n",
    "        state, action, reward, next_state, done = zip(*random.sample(self.memory, BATCH_SIZE))\n",
    "        state = np.concatenate(state)\n",
    "        next_state = np.concatenate(next_state)\n",
    "\n",
    "        state      = torch.FloatTensor(np.float32(state))\n",
    "        next_state = torch.FloatTensor(np.float32(next_state))\n",
    "        action     = torch.LongTensor(action)\n",
    "        reward     = torch.FloatTensor(reward)\n",
    "        done       = torch.FloatTensor(done)\n",
    "\n",
    "        q_values      = policy_net(state)\n",
    "        next_q_values = target_net(next_state)\n",
    "\n",
    "        q_value          = q_values.gather(1, action.unsqueeze(1)).squeeze(1)\n",
    "        next_q_value     = next_q_values.max(1)[0]\n",
    "        expected_q_value = reward + GAMMA * next_q_value * (1 - done)\n",
    "\n",
    "        optimizer = optim.Adam(params=self.policy_net.parameters(), lr=LEARNING_RATE)\n",
    "        loss = F.mse_loss(q_value,expected_q_value.data)\n",
    "        optimizer.zero_grad()\n",
    "        loss.backward()\n",
    "        optimizer.step()"
   ]
  },
  {
   "cell_type": "code",
   "execution_count": null,
   "metadata": {},
   "outputs": [],
   "source": []
  },
  {
   "cell_type": "code",
   "execution_count": null,
   "metadata": {},
   "outputs": [],
   "source": [
    "test_net = torch.load('./CartPole-v0_or_v1_direct_values.pth')"
   ]
  },
  {
   "cell_type": "code",
   "execution_count": null,
   "metadata": {},
   "outputs": [],
   "source": [
    "test_env = gym.make(TEST_ENV_NAME)\n",
    "device = torch.device(\"cuda\" if torch.cuda.is_available() else \"cpu\")\n",
    "\n",
    "test_observation_space_size = test_env.observation_space.shape[0]\n",
    "test_action_space_size = test_env.action_space.n\n",
    "\n",
    "test_agent = Agent_class(test_net, test_net, test_observation_space_size, test_action_space_size)"
   ]
  },
  {
   "cell_type": "code",
   "execution_count": null,
   "metadata": {},
   "outputs": [],
   "source": [
    "test_state = test_env.reset()\n",
    "test_state = test_state.reshape(1,test_observation_space_size)\n",
    "test_state = torch.from_numpy(test_state).float().to(device)\n",
    "test_timestep = 0\n",
    "while True:\n",
    "    test_timestep += 1\n",
    "    test_env.render()\n",
    "    test_action = test_agent.act(test_state)\n",
    "\n",
    "    test_next_state, test_reward, test_done, _ = test_env.step(test_action)\n",
    "    test_reward = test_reward if not test_done else -test_reward\n",
    "   \n",
    "    test_next_state = test_next_state.reshape(1, test_observation_space_size)\n",
    "    test_next_state = torch.from_numpy(test_next_state).float().to(device)\n",
    "    #agent.remember(state, action, reward, next_state, done)\n",
    "    test_state = test_next_state\n",
    "    if test_done:\n",
    "        print(\"the agent got a reward of \"+str(test_timestep))\n",
    "        break\n",
    "        \n",
    "test_env.close()        "
   ]
  },
  {
   "cell_type": "code",
   "execution_count": null,
   "metadata": {},
   "outputs": [],
   "source": []
  }
 ],
 "metadata": {
  "kernelspec": {
   "display_name": "Python 3",
   "language": "python",
   "name": "python3"
  },
  "language_info": {
   "codemirror_mode": {
    "name": "ipython",
    "version": 3
   },
   "file_extension": ".py",
   "mimetype": "text/x-python",
   "name": "python",
   "nbconvert_exporter": "python",
   "pygments_lexer": "ipython3",
   "version": "3.7.3"
  }
 },
 "nbformat": 4,
 "nbformat_minor": 2
}
